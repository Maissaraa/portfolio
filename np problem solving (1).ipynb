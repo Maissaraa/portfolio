{
 "cells": [
  {
   "cell_type": "code",
   "execution_count": 1,
   "id": "284d498a-f9d7-4d6d-a5c6-5bc6dce8cc6d",
   "metadata": {},
   "outputs": [],
   "source": [
    "import numpy as np"
   ]
  },
  {
   "cell_type": "code",
   "execution_count": 12,
   "id": "78d584ba-c338-46c8-8a60-0a17485e4d15",
   "metadata": {},
   "outputs": [
    {
     "data": {
      "text/plain": [
       "array([2, 3, 4, 5, 6, 7, 8, 9])"
      ]
     },
     "execution_count": 12,
     "metadata": {},
     "output_type": "execute_result"
    }
   ],
   "source": [
    "arr=np.arange(2,10)\n",
    "arr"
   ]
  },
  {
   "cell_type": "code",
   "execution_count": 32,
   "id": "feedc750-e211-4433-a5fe-021b9a5e8fe8",
   "metadata": {},
   "outputs": [],
   "source": [
    "x=np.arange(1,9).reshape(2,4)"
   ]
  },
  {
   "cell_type": "code",
   "execution_count": 34,
   "id": "c012998b-7951-4512-baaa-6cc562836f88",
   "metadata": {},
   "outputs": [
    {
     "data": {
      "text/plain": [
       "array([[1, 2, 3, 4],\n",
       "       [5, 6, 7, 8]])"
      ]
     },
     "execution_count": 34,
     "metadata": {},
     "output_type": "execute_result"
    }
   ],
   "source": [
    "x"
   ]
  },
  {
   "cell_type": "code",
   "execution_count": 40,
   "id": "1aa1e86c-15d3-4a39-aae9-c2257190b7a0",
   "metadata": {},
   "outputs": [
    {
     "data": {
      "text/plain": [
       "array([2, 4, 6])"
      ]
     },
     "execution_count": 40,
     "metadata": {},
     "output_type": "execute_result"
    }
   ],
   "source": [
    "x=np.array([2,4,6,])\n",
    "x"
   ]
  },
  {
   "cell_type": "code",
   "execution_count": 44,
   "id": "4461615d-09c6-40a8-9328-41e4f6fb60fb",
   "metadata": {},
   "outputs": [
    {
     "data": {
      "text/plain": [
       "6"
      ]
     },
     "execution_count": 44,
     "metadata": {},
     "output_type": "execute_result"
    }
   ],
   "source": [
    "x[2]"
   ]
  },
  {
   "cell_type": "code",
   "execution_count": 46,
   "id": "96b50489-6a95-4345-be3b-2f99078f53b0",
   "metadata": {},
   "outputs": [],
   "source": [
    "a=np.array([2,5,6])"
   ]
  },
  {
   "cell_type": "code",
   "execution_count": 48,
   "id": "04ba26c7-9a0a-4788-b7f0-dc50a6bf19b5",
   "metadata": {},
   "outputs": [
    {
     "data": {
      "text/plain": [
       "5"
      ]
     },
     "execution_count": 48,
     "metadata": {},
     "output_type": "execute_result"
    }
   ],
   "source": [
    "a[1]"
   ]
  },
  {
   "cell_type": "code",
   "execution_count": 50,
   "id": "11eb2931-9a80-4074-b356-dd3a4ff1acf7",
   "metadata": {},
   "outputs": [],
   "source": [
    "a[0]=4"
   ]
  },
  {
   "cell_type": "code",
   "execution_count": 52,
   "id": "ee382ff1-17b6-4290-8c7f-06c9ff1805ff",
   "metadata": {},
   "outputs": [
    {
     "data": {
      "text/plain": [
       "array([4, 5, 6])"
      ]
     },
     "execution_count": 52,
     "metadata": {},
     "output_type": "execute_result"
    }
   ],
   "source": [
    "a"
   ]
  },
  {
   "cell_type": "markdown",
   "id": "f7054d4d-f27b-4a8a-b643-64f86b2a1f2a",
   "metadata": {},
   "source": [
    "Task\n",
    "\n",
    "create array 5 values\n",
    "\n",
    "1- print 3rd value\n",
    "\n",
    "2- edit 4th value with 55"
   ]
  },
  {
   "cell_type": "code",
   "execution_count": 65,
   "id": "e911a3f5-65fa-43ed-a9bb-fa8b1540817c",
   "metadata": {},
   "outputs": [
    {
     "data": {
      "text/plain": [
       "array([2, 5, 3, 8, 9])"
      ]
     },
     "execution_count": 65,
     "metadata": {},
     "output_type": "execute_result"
    }
   ],
   "source": [
    "ar=np.array([2,5,3,8,9])\n",
    "ar"
   ]
  },
  {
   "cell_type": "code",
   "execution_count": 67,
   "id": "4bf574c2-233e-4028-afb0-a1651a7d4f93",
   "metadata": {},
   "outputs": [
    {
     "data": {
      "text/plain": [
       "3"
      ]
     },
     "execution_count": 67,
     "metadata": {},
     "output_type": "execute_result"
    }
   ],
   "source": [
    "ar[2]"
   ]
  },
  {
   "cell_type": "code",
   "execution_count": 74,
   "id": "885b392b-380a-422e-8fe8-fe6d43306331",
   "metadata": {},
   "outputs": [
    {
     "data": {
      "text/plain": [
       "array([ 2,  5,  3, 55,  9])"
      ]
     },
     "execution_count": 74,
     "metadata": {},
     "output_type": "execute_result"
    }
   ],
   "source": [
    "ar[3]=55\n",
    "ar"
   ]
  },
  {
   "cell_type": "code",
   "execution_count": 96,
   "id": "5fa2650d-97eb-45fd-93e8-41b210fb7c10",
   "metadata": {},
   "outputs": [
    {
     "data": {
      "text/plain": [
       "array([[2, 5, 7],\n",
       "       [6, 3, 9]])"
      ]
     },
     "execution_count": 96,
     "metadata": {},
     "output_type": "execute_result"
    }
   ],
   "source": [
    "m=np.array([[2,5,7,],\n",
    "            [6,3,9]])\n",
    "m\n"
   ]
  },
  {
   "cell_type": "code",
   "execution_count": 98,
   "id": "689e38b3-f7ab-4359-8a7a-24a0181fd6f8",
   "metadata": {},
   "outputs": [
    {
     "data": {
      "text/plain": [
       "5"
      ]
     },
     "execution_count": 98,
     "metadata": {},
     "output_type": "execute_result"
    }
   ],
   "source": [
    "(m[0,1])"
   ]
  },
  {
   "cell_type": "code",
   "execution_count": 100,
   "id": "44622fd4-9b4b-45da-8e5e-2fe0d03039c5",
   "metadata": {},
   "outputs": [
    {
     "data": {
      "text/plain": [
       "9"
      ]
     },
     "execution_count": 100,
     "metadata": {},
     "output_type": "execute_result"
    }
   ],
   "source": [
    "(m[1,2])"
   ]
  },
  {
   "cell_type": "code",
   "execution_count": 102,
   "id": "20d64cce-5856-42b8-b3fc-3262c074718d",
   "metadata": {},
   "outputs": [
    {
     "data": {
      "text/plain": [
       "(2, 3)"
      ]
     },
     "execution_count": 102,
     "metadata": {},
     "output_type": "execute_result"
    }
   ],
   "source": [
    "m.shape"
   ]
  },
  {
   "cell_type": "code",
   "execution_count": 110,
   "id": "fa7a8eff-632f-4d45-9a6e-1f1fdbf31e6f",
   "metadata": {},
   "outputs": [
    {
     "data": {
      "text/plain": [
       "(7, 6)"
      ]
     },
     "execution_count": 110,
     "metadata": {},
     "output_type": "execute_result"
    }
   ],
   "source": [
    "(m[0,2], m[1,0])"
   ]
  },
  {
   "cell_type": "markdown",
   "id": "2ffd27fe-cfc2-4a3b-acb5-1e861c5511c8",
   "metadata": {},
   "source": [
    "Task\n",
    "\n",
    "create array 2D\n",
    "\n",
    "3 row 3 col\n",
    "\n",
    "1- print 1st row\n",
    "\n",
    "2- print 1st col\n",
    "\n",
    "3- print element row 2 col 2\n",
    "\n",
    "4- edit element row 3 col 3 value with 55"
   ]
  },
  {
   "cell_type": "code",
   "execution_count": 147,
   "id": "64464872-828c-4732-887f-f175a4001c3a",
   "metadata": {},
   "outputs": [
    {
     "data": {
      "text/plain": [
       "array([[22, 54,  6],\n",
       "       [21, 21, 33],\n",
       "       [55,  7,  6]])"
      ]
     },
     "execution_count": 147,
     "metadata": {},
     "output_type": "execute_result"
    }
   ],
   "source": [
    "r=np.array([[22,54,6],\n",
    "          [21,21,33],\n",
    "          [55,7,6]])\n",
    "r"
   ]
  },
  {
   "cell_type": "code",
   "execution_count": 149,
   "id": "166818ab-76d6-4123-9159-fd72048fac2a",
   "metadata": {},
   "outputs": [
    {
     "data": {
      "text/plain": [
       "array([22, 54,  6])"
      ]
     },
     "execution_count": 149,
     "metadata": {},
     "output_type": "execute_result"
    }
   ],
   "source": [
    "r[0]"
   ]
  },
  {
   "cell_type": "code",
   "execution_count": 151,
   "id": "def4f525-91b5-4866-ad73-fb92662bf597",
   "metadata": {},
   "outputs": [
    {
     "data": {
      "text/plain": [
       "array([22, 21, 55])"
      ]
     },
     "execution_count": 151,
     "metadata": {},
     "output_type": "execute_result"
    }
   ],
   "source": [
    "r[:,0]"
   ]
  },
  {
   "cell_type": "code",
   "execution_count": 153,
   "id": "70aace4c-e1d9-4f1c-86dc-386fb73570fe",
   "metadata": {},
   "outputs": [
    {
     "data": {
      "text/plain": [
       "21"
      ]
     },
     "execution_count": 153,
     "metadata": {},
     "output_type": "execute_result"
    }
   ],
   "source": [
    "r[1,1]"
   ]
  },
  {
   "cell_type": "code",
   "execution_count": 155,
   "id": "831f894c-b928-4915-99a4-352dd8c2e721",
   "metadata": {},
   "outputs": [],
   "source": [
    "r[2,2]=44"
   ]
  },
  {
   "cell_type": "code",
   "execution_count": 157,
   "id": "bdcc4cba-858e-483c-b8ac-c515cdf75165",
   "metadata": {},
   "outputs": [
    {
     "data": {
      "text/plain": [
       "array([[22, 54,  6],\n",
       "       [21, 21, 33],\n",
       "       [55,  7, 44]])"
      ]
     },
     "execution_count": 157,
     "metadata": {},
     "output_type": "execute_result"
    }
   ],
   "source": [
    "r"
   ]
  },
  {
   "cell_type": "code",
   "execution_count": 159,
   "id": "d78dff1e-8134-4963-a2f7-cba72545b7b7",
   "metadata": {},
   "outputs": [],
   "source": [
    "z=np.zeros([2,2])"
   ]
  },
  {
   "cell_type": "code",
   "execution_count": 161,
   "id": "4d48798b-cda3-40c6-8a7c-89bfd197a3e8",
   "metadata": {},
   "outputs": [
    {
     "data": {
      "text/plain": [
       "array([[0., 0.],\n",
       "       [0., 0.]])"
      ]
     },
     "execution_count": 161,
     "metadata": {},
     "output_type": "execute_result"
    }
   ],
   "source": [
    "z"
   ]
  },
  {
   "cell_type": "code",
   "execution_count": 167,
   "id": "3cc8646f-f219-461a-b29b-6a817b4e452c",
   "metadata": {},
   "outputs": [
    {
     "data": {
      "text/plain": [
       "array([[1., 1., 1.],\n",
       "       [1., 1., 1.],\n",
       "       [1., 1., 1.]])"
      ]
     },
     "execution_count": 167,
     "metadata": {},
     "output_type": "execute_result"
    }
   ],
   "source": [
    "o=np.ones((3,3))\n",
    "o"
   ]
  },
  {
   "cell_type": "code",
   "execution_count": 175,
   "id": "4f86f6da-55a3-4c78-9c29-22d9007f505f",
   "metadata": {},
   "outputs": [
    {
     "data": {
      "text/plain": [
       "array([[1., 0., 0., 0.],\n",
       "       [0., 1., 0., 0.],\n",
       "       [0., 0., 1., 0.],\n",
       "       [0., 0., 0., 1.]])"
      ]
     },
     "execution_count": 175,
     "metadata": {},
     "output_type": "execute_result"
    }
   ],
   "source": [
    "a=np.eye(4,4)\n",
    "a"
   ]
  },
  {
   "cell_type": "code",
   "execution_count": 179,
   "id": "587532d0-6889-41ff-a5b7-c2955d7aea68",
   "metadata": {},
   "outputs": [
    {
     "data": {
      "text/plain": [
       "array([[5, 5, 5],\n",
       "       [5, 5, 5],\n",
       "       [5, 5, 5]])"
      ]
     },
     "execution_count": 179,
     "metadata": {},
     "output_type": "execute_result"
    }
   ],
   "source": [
    "f=np.full((3,3),5)\n",
    "f"
   ]
  },
  {
   "cell_type": "code",
   "execution_count": 183,
   "id": "670bf18f-f399-445c-8bc9-1275b33a1fd8",
   "metadata": {},
   "outputs": [
    {
     "data": {
      "text/plain": [
       "array([[0.76764977, 0.78294328],\n",
       "       [0.37701216, 0.42560675]])"
      ]
     },
     "execution_count": 183,
     "metadata": {},
     "output_type": "execute_result"
    }
   ],
   "source": [
    "r=np.random.random((2,2))\n",
    "r"
   ]
  },
  {
   "cell_type": "code",
   "execution_count": 191,
   "id": "b161acb1-951a-4d57-ba76-73ddd4f3f0e6",
   "metadata": {},
   "outputs": [
    {
     "data": {
      "text/plain": [
       "array([[19, 10,  6, 15],\n",
       "       [ 2,  7,  9,  5],\n",
       "       [17,  8,  5, 14],\n",
       "       [15,  7, 15, 18]])"
      ]
     },
     "execution_count": 191,
     "metadata": {},
     "output_type": "execute_result"
    }
   ],
   "source": [
    "t=np.random.randint(low=2,high=20,size=(4,4))\n",
    "t"
   ]
  },
  {
   "cell_type": "markdown",
   "id": "5e7f1184-a691-435a-90de-2638384b6164",
   "metadata": {},
   "source": [
    "Task\n",
    "\n",
    "create a ticket system chocess random between 141 fan\n",
    "\n",
    "every time we choose 4 fans"
   ]
  },
  {
   "cell_type": "code",
   "execution_count": 198,
   "id": "7eb408ae-36f0-47fc-90f5-eb9a9c23dfc3",
   "metadata": {},
   "outputs": [
    {
     "data": {
      "text/plain": [
       "array([ 37, 127, 132,  26])"
      ]
     },
     "execution_count": 198,
     "metadata": {},
     "output_type": "execute_result"
    }
   ],
   "source": [
    "fans=np.random.randint(low=1,high=142,size=(4))\n",
    "fans"
   ]
  },
  {
   "cell_type": "markdown",
   "id": "f97ba7ba-ef45-426c-849c-8ab4d3b78fac",
   "metadata": {},
   "source": [
    "Array indexing"
   ]
  },
  {
   "cell_type": "code",
   "execution_count": 205,
   "id": "641415de-26cf-4899-b75c-a416a59b82be",
   "metadata": {},
   "outputs": [
    {
     "data": {
      "text/plain": [
       "array([[44, 41, 48, 43],\n",
       "       [34,  6, 39, 27],\n",
       "       [44, 33, 25, 26]])"
      ]
     },
     "execution_count": 205,
     "metadata": {},
     "output_type": "execute_result"
    }
   ],
   "source": [
    "y=np.random.randint(low=1,high=60,size=(3,4))\n",
    "y"
   ]
  },
  {
   "cell_type": "code",
   "execution_count": 211,
   "id": "9f4115cf-e59a-44ff-b351-93518043f301",
   "metadata": {},
   "outputs": [
    {
     "data": {
      "text/plain": [
       "25"
      ]
     },
     "execution_count": 211,
     "metadata": {},
     "output_type": "execute_result"
    }
   ],
   "source": [
    "y[2,2]"
   ]
  },
  {
   "cell_type": "code",
   "execution_count": 215,
   "id": "6e6b33c9-4cfe-4ce9-bfc0-a6741fcf5793",
   "metadata": {},
   "outputs": [
    {
     "data": {
      "text/plain": [
       "array([[44, 41],\n",
       "       [34,  6]])"
      ]
     },
     "execution_count": 215,
     "metadata": {},
     "output_type": "execute_result"
    }
   ],
   "source": [
    "y[0:2 ,0:2]"
   ]
  },
  {
   "cell_type": "code",
   "execution_count": 217,
   "id": "e2c9c739-28b1-4642-a1b8-28109c2f370d",
   "metadata": {},
   "outputs": [
    {
     "data": {
      "text/plain": [
       "array([44, 41, 48, 43, 44])"
      ]
     },
     "execution_count": 217,
     "metadata": {},
     "output_type": "execute_result"
    }
   ],
   "source": [
    "(y[y>40])"
   ]
  },
  {
   "cell_type": "code",
   "execution_count": 219,
   "id": "fe897447-26d1-4926-801e-5211844de21d",
   "metadata": {},
   "outputs": [],
   "source": [
    "b=[y>40]"
   ]
  },
  {
   "cell_type": "code",
   "execution_count": 221,
   "id": "58c0a9f2-62ce-4e00-90af-fcf6f4f282d2",
   "metadata": {},
   "outputs": [
    {
     "data": {
      "text/plain": [
       "[array([[ True,  True,  True,  True],\n",
       "        [False, False, False, False],\n",
       "        [ True, False, False, False]])]"
      ]
     },
     "execution_count": 221,
     "metadata": {},
     "output_type": "execute_result"
    }
   ],
   "source": [
    "b"
   ]
  },
  {
   "cell_type": "markdown",
   "id": "fe4b4d68-4d80-489d-8634-d62ad7d03b91",
   "metadata": {},
   "source": [
    "Task\n",
    "\n",
    "1- create function takes two arrays >>>> size of array (3,3)\n",
    "\n",
    "2- print multiply two arrays\n",
    "\n",
    "3- print subtract 2 arrays\n",
    "\n",
    "4- return sub array size 2,2 from result of multiply"
   ]
  },
  {
   "cell_type": "code",
   "execution_count": 244,
   "id": "1be2258e-5934-4e35-82cf-f76760ae1559",
   "metadata": {},
   "outputs": [],
   "source": [
    "def arr(x1,x2):\n",
    "    print('Multi')\n",
    "    print(np.multiply(x1,x2))\n",
    "    print('sum')\n",
    "    print(np.add(x1,x2)) \n",
    "    print('substract')\n",
    "    print(np.subtract)\n",
    "    multi=np.multiply(x1,x2)\n",
    "\n",
    "    return(multi[1:3,1:3])  "
   ]
  },
  {
   "cell_type": "code",
   "execution_count": 246,
   "id": "dfff5356-739c-4146-b596-a514a027d7e3",
   "metadata": {},
   "outputs": [],
   "source": [
    "arr1=np.random.randint(low=2,high=50,size=(3,3))\n",
    "arr2=np.random.randint(low=3,high=60,size=(3,3))"
   ]
  },
  {
   "cell_type": "code",
   "execution_count": 248,
   "id": "4feffebd-de45-4d60-8a3a-b9af86c86d7d",
   "metadata": {},
   "outputs": [
    {
     "name": "stdout",
     "output_type": "stream",
     "text": [
      "Multi\n",
      "[[ 819   75  616]\n",
      " [1058  285  462]\n",
      " [ 350 1092 1848]]\n",
      "sum\n",
      "[[60 28 58]\n",
      " [69 34 47]\n",
      " [39 68 86]]\n",
      "substract\n",
      "<ufunc 'subtract'>\n"
     ]
    },
    {
     "data": {
      "text/plain": [
       "array([[ 285,  462],\n",
       "       [1092, 1848]])"
      ]
     },
     "execution_count": 248,
     "metadata": {},
     "output_type": "execute_result"
    }
   ],
   "source": [
    "arr(arr1,arr2)"
   ]
  },
  {
   "cell_type": "code",
   "execution_count": 250,
   "id": "28c1de93-db7e-4530-87ea-6e5b0d206f53",
   "metadata": {},
   "outputs": [],
   "source": [
    "v = np.array([9,10])\n",
    "w = np.array([11, 12])"
   ]
  },
  {
   "cell_type": "code",
   "execution_count": 252,
   "id": "9d169bb9-af84-4f4b-8431-3852a5ad22c5",
   "metadata": {},
   "outputs": [
    {
     "data": {
      "text/plain": [
       "array([ 9, 10])"
      ]
     },
     "execution_count": 252,
     "metadata": {},
     "output_type": "execute_result"
    }
   ],
   "source": [
    "v"
   ]
  },
  {
   "cell_type": "code",
   "execution_count": 254,
   "id": "b02e8103-5dd4-4ef0-b366-6d17ac89cd12",
   "metadata": {},
   "outputs": [
    {
     "data": {
      "text/plain": [
       "array([11, 12])"
      ]
     },
     "execution_count": 254,
     "metadata": {},
     "output_type": "execute_result"
    }
   ],
   "source": [
    "w"
   ]
  },
  {
   "cell_type": "code",
   "execution_count": 256,
   "id": "cc0a0c88-7f77-4781-b3c6-faf2810b6dfa",
   "metadata": {},
   "outputs": [
    {
     "data": {
      "text/plain": [
       "219"
      ]
     },
     "execution_count": 256,
     "metadata": {},
     "output_type": "execute_result"
    }
   ],
   "source": [
    "(v.dot(w))"
   ]
  },
  {
   "cell_type": "code",
   "execution_count": 264,
   "id": "011e1fda-355d-4182-a5f9-c7b0f39b6c85",
   "metadata": {},
   "outputs": [
    {
     "name": "stdout",
     "output_type": "stream",
     "text": [
      "[[ 1  2  3  4]\n",
      " [ 5  6  7  8]\n",
      " [ 9 10 11 12]\n",
      " [13 14 15 16]]\n"
     ]
    },
    {
     "data": {
      "text/plain": [
       "array([10, 26, 42, 58])"
      ]
     },
     "execution_count": 264,
     "metadata": {},
     "output_type": "execute_result"
    }
   ],
   "source": [
    "x=np.arange(1,17).reshape(4,4)\n",
    "print(x)\n",
    "np.sum(x,axis =1)"
   ]
  },
  {
   "cell_type": "code",
   "execution_count": null,
   "id": "14e3d84f-d146-4fa9-a136-1ec93578d7a2",
   "metadata": {},
   "outputs": [],
   "source": []
  }
 ],
 "metadata": {
  "kernelspec": {
   "display_name": "Python 3 (ipykernel)",
   "language": "python",
   "name": "python3"
  },
  "language_info": {
   "codemirror_mode": {
    "name": "ipython",
    "version": 3
   },
   "file_extension": ".py",
   "mimetype": "text/x-python",
   "name": "python",
   "nbconvert_exporter": "python",
   "pygments_lexer": "ipython3",
   "version": "3.12.4"
  }
 },
 "nbformat": 4,
 "nbformat_minor": 5
}
